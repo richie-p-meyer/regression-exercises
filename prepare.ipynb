{
 "cells": [
  {
   "cell_type": "code",
   "execution_count": 1,
   "id": "5e6c4c90",
   "metadata": {},
   "outputs": [],
   "source": [
    "from sklearn.model_selection import train_test_split\n",
    "import sklearn.preprocessing\n",
    "import pandas as pd\n",
    "import numpy as np"
   ]
  },
  {
   "cell_type": "code",
   "execution_count": 2,
   "id": "f24f64cc",
   "metadata": {},
   "outputs": [],
   "source": [
    "def split_data(df):\n",
    "    '''\n",
    "    Splits a df into a train, validate, and test set. Use 'train' to explore data.\n",
    "    '''\n",
    "    full = df\n",
    "    train_validate, test = train_test_split(df, train_size =.8, random_state = 91)\n",
    "    train, validate = train_test_split(train_validate, train_size = .7, random_state = 91)\n",
    "    return train, validate, test"
   ]
  },
  {
   "cell_type": "code",
   "execution_count": 3,
   "id": "acef460a",
   "metadata": {},
   "outputs": [],
   "source": [
    "def scale_minmax(train,validate,test):\n",
    "    '''\n",
    "    Takes in train, validate, and test sets and returns the minmax scaled dfs\n",
    "    '''\n",
    "    scaler = sklearn.preprocessing.MinMaxScaler()\n",
    "    \n",
    "    train[train.columns] = scaler.fit_transform(train[train.columns])\n",
    "    validate[validate.columns] = scaler.fit_transform(validate[validate.columns])\n",
    "    test[test.columns] = scaler.fit_transform(test[test.columns])\n",
    "    \n",
    "    return train, validate, test"
   ]
  },
  {
   "cell_type": "code",
   "execution_count": null,
   "id": "218cbb32",
   "metadata": {},
   "outputs": [],
   "source": []
  }
 ],
 "metadata": {
  "kernelspec": {
   "display_name": "Python 3 (ipykernel)",
   "language": "python",
   "name": "python3"
  },
  "language_info": {
   "codemirror_mode": {
    "name": "ipython",
    "version": 3
   },
   "file_extension": ".py",
   "mimetype": "text/x-python",
   "name": "python",
   "nbconvert_exporter": "python",
   "pygments_lexer": "ipython3",
   "version": "3.9.7"
  }
 },
 "nbformat": 4,
 "nbformat_minor": 5
}
