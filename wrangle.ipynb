{
 "cells": [
  {
   "cell_type": "code",
   "execution_count": 6,
   "id": "4c559172",
   "metadata": {},
   "outputs": [],
   "source": [
    "import pandas as pd\n",
    "import numpy as np\n",
    "import matplotlib.pyplot as plt\n",
    "import os\n",
    "import env"
   ]
  },
  {
   "cell_type": "code",
   "execution_count": 7,
   "id": "7f3a83d7",
   "metadata": {},
   "outputs": [],
   "source": [
    "def get_zillow_2017():   \n",
    "    if os.path.exists('zillow_2017.csv'):\n",
    "        return pd.read_csv('zillow_2017.csv',index_col=0)\n",
    "    else:\n",
    "        url = env.get_connection('zillow')\n",
    "        query = 'select bedroomcnt, bathroomcnt, calculatedfinishedsquarefeet, taxvaluedollarcnt, yearbuilt, \\\n",
    "        taxamount, fips  from properties_2017 join propertylandusetype using (propertylandusetypeid) where \\\n",
    "        propertylandusedesc = \"Single Family Residential\"'\n",
    "        df = pd.read_sql(query,url)\n",
    "        df.to_csv('zillow_2017.csv')\n",
    "        return df"
   ]
  },
  {
   "cell_type": "code",
   "execution_count": 8,
   "id": "dd9b6757",
   "metadata": {},
   "outputs": [],
   "source": [
    "df = get_zillow_2017()"
   ]
  },
  {
   "cell_type": "code",
   "execution_count": 11,
   "id": "ec3e81ce",
   "metadata": {},
   "outputs": [
    {
     "data": {
      "text/plain": [
       "(2152863, 7)"
      ]
     },
     "execution_count": 11,
     "metadata": {},
     "output_type": "execute_result"
    }
   ],
   "source": [
    "# 2.1 million rows, 7 columns\n",
    "df.shape"
   ]
  },
  {
   "cell_type": "code",
   "execution_count": 13,
   "id": "4130ab91",
   "metadata": {},
   "outputs": [
    {
     "data": {
      "text/html": [
       "<div>\n",
       "<style scoped>\n",
       "    .dataframe tbody tr th:only-of-type {\n",
       "        vertical-align: middle;\n",
       "    }\n",
       "\n",
       "    .dataframe tbody tr th {\n",
       "        vertical-align: top;\n",
       "    }\n",
       "\n",
       "    .dataframe thead th {\n",
       "        text-align: right;\n",
       "    }\n",
       "</style>\n",
       "<table border=\"1\" class=\"dataframe\">\n",
       "  <thead>\n",
       "    <tr style=\"text-align: right;\">\n",
       "      <th></th>\n",
       "      <th>bedroomcnt</th>\n",
       "      <th>bathroomcnt</th>\n",
       "      <th>calculatedfinishedsquarefeet</th>\n",
       "      <th>taxvaluedollarcnt</th>\n",
       "      <th>yearbuilt</th>\n",
       "      <th>taxamount</th>\n",
       "      <th>fips</th>\n",
       "    </tr>\n",
       "  </thead>\n",
       "  <tbody>\n",
       "    <tr>\n",
       "      <th>0</th>\n",
       "      <td>0.0</td>\n",
       "      <td>0.0</td>\n",
       "      <td>NaN</td>\n",
       "      <td>27516.0</td>\n",
       "      <td>NaN</td>\n",
       "      <td>NaN</td>\n",
       "      <td>6037.0</td>\n",
       "    </tr>\n",
       "    <tr>\n",
       "      <th>1</th>\n",
       "      <td>0.0</td>\n",
       "      <td>0.0</td>\n",
       "      <td>NaN</td>\n",
       "      <td>10.0</td>\n",
       "      <td>NaN</td>\n",
       "      <td>NaN</td>\n",
       "      <td>6037.0</td>\n",
       "    </tr>\n",
       "    <tr>\n",
       "      <th>2</th>\n",
       "      <td>0.0</td>\n",
       "      <td>0.0</td>\n",
       "      <td>NaN</td>\n",
       "      <td>10.0</td>\n",
       "      <td>NaN</td>\n",
       "      <td>NaN</td>\n",
       "      <td>6037.0</td>\n",
       "    </tr>\n",
       "    <tr>\n",
       "      <th>3</th>\n",
       "      <td>0.0</td>\n",
       "      <td>0.0</td>\n",
       "      <td>NaN</td>\n",
       "      <td>2108.0</td>\n",
       "      <td>NaN</td>\n",
       "      <td>174.21</td>\n",
       "      <td>6037.0</td>\n",
       "    </tr>\n",
       "    <tr>\n",
       "      <th>4</th>\n",
       "      <td>4.0</td>\n",
       "      <td>2.0</td>\n",
       "      <td>3633.0</td>\n",
       "      <td>296425.0</td>\n",
       "      <td>2005.0</td>\n",
       "      <td>6941.39</td>\n",
       "      <td>6037.0</td>\n",
       "    </tr>\n",
       "  </tbody>\n",
       "</table>\n",
       "</div>"
      ],
      "text/plain": [
       "   bedroomcnt  bathroomcnt  calculatedfinishedsquarefeet  taxvaluedollarcnt  \\\n",
       "0         0.0          0.0                           NaN            27516.0   \n",
       "1         0.0          0.0                           NaN               10.0   \n",
       "2         0.0          0.0                           NaN               10.0   \n",
       "3         0.0          0.0                           NaN             2108.0   \n",
       "4         4.0          2.0                        3633.0           296425.0   \n",
       "\n",
       "   yearbuilt  taxamount    fips  \n",
       "0        NaN        NaN  6037.0  \n",
       "1        NaN        NaN  6037.0  \n",
       "2        NaN        NaN  6037.0  \n",
       "3        NaN     174.21  6037.0  \n",
       "4     2005.0    6941.39  6037.0  "
      ]
     },
     "execution_count": 13,
     "metadata": {},
     "output_type": "execute_result"
    }
   ],
   "source": [
    "# FIPS (a unique county identifier code), all columns should be numeric\n",
    "df.head()"
   ]
  },
  {
   "cell_type": "markdown",
   "id": "2e9da657",
   "metadata": {},
   "source": [
    "taxvaluedollarcnt: total tax assessed value of the parcel  \n",
    "taxamount: total property tax assessed yearly"
   ]
  },
  {
   "cell_type": "code",
   "execution_count": 15,
   "id": "d02dba9f",
   "metadata": {},
   "outputs": [
    {
     "data": {
      "text/plain": [
       "bedroomcnt                      float64\n",
       "bathroomcnt                     float64\n",
       "calculatedfinishedsquarefeet    float64\n",
       "taxvaluedollarcnt               float64\n",
       "yearbuilt                       float64\n",
       "taxamount                       float64\n",
       "fips                            float64\n",
       "dtype: object"
      ]
     },
     "execution_count": 15,
     "metadata": {},
     "output_type": "execute_result"
    }
   ],
   "source": [
    "# All dtypes are numeric - that's good\n",
    "df.dtypes"
   ]
  },
  {
   "cell_type": "code",
   "execution_count": 20,
   "id": "e3883e30",
   "metadata": {},
   "outputs": [
    {
     "data": {
      "text/plain": [
       "bedroomcnt                        11\n",
       "bathroomcnt                       11\n",
       "calculatedfinishedsquarefeet    8484\n",
       "taxvaluedollarcnt                493\n",
       "yearbuilt                       9337\n",
       "taxamount                       4442\n",
       "fips                               0\n",
       "dtype: int64"
      ]
     },
     "execution_count": 20,
     "metadata": {},
     "output_type": "execute_result"
    }
   ],
   "source": [
    "# There are 2152863 rows - 9337 nan values is less than .5% of the data\n",
    "df.isnull().sum()"
   ]
  },
  {
   "cell_type": "code",
   "execution_count": 27,
   "id": "1848feee",
   "metadata": {},
   "outputs": [
    {
     "data": {
      "text/plain": [
       "(2140235, 7)"
      ]
     },
     "execution_count": 27,
     "metadata": {},
     "output_type": "execute_result"
    }
   ],
   "source": [
    "# If we drop all nan values we drop from 2152863 to 2140235 = keeping 99.4% of data - good enough!\n",
    "df.dropna().shape"
   ]
  },
  {
   "cell_type": "code",
   "execution_count": 29,
   "id": "0d92edbc",
   "metadata": {},
   "outputs": [],
   "source": [
    "df = df.dropna()"
   ]
  },
  {
   "cell_type": "code",
   "execution_count": 35,
   "id": "d46b55dd",
   "metadata": {},
   "outputs": [
    {
     "data": {
      "text/html": [
       "<div>\n",
       "<style scoped>\n",
       "    .dataframe tbody tr th:only-of-type {\n",
       "        vertical-align: middle;\n",
       "    }\n",
       "\n",
       "    .dataframe tbody tr th {\n",
       "        vertical-align: top;\n",
       "    }\n",
       "\n",
       "    .dataframe thead th {\n",
       "        text-align: right;\n",
       "    }\n",
       "</style>\n",
       "<table border=\"1\" class=\"dataframe\">\n",
       "  <thead>\n",
       "    <tr style=\"text-align: right;\">\n",
       "      <th></th>\n",
       "      <th>bedroomcnt</th>\n",
       "      <th>bathroomcnt</th>\n",
       "      <th>calculatedfinishedsquarefeet</th>\n",
       "      <th>taxvaluedollarcnt</th>\n",
       "      <th>yearbuilt</th>\n",
       "      <th>taxamount</th>\n",
       "      <th>fips</th>\n",
       "    </tr>\n",
       "  </thead>\n",
       "  <tbody>\n",
       "    <tr>\n",
       "      <th>26485</th>\n",
       "      <td>25.0</td>\n",
       "      <td>20.0</td>\n",
       "      <td>11700.0</td>\n",
       "      <td>1608491.0</td>\n",
       "      <td>2010.0</td>\n",
       "      <td>19238.87</td>\n",
       "      <td>6037.0</td>\n",
       "    </tr>\n",
       "    <tr>\n",
       "      <th>650428</th>\n",
       "      <td>16.0</td>\n",
       "      <td>5.0</td>\n",
       "      <td>2584.0</td>\n",
       "      <td>543654.0</td>\n",
       "      <td>1922.0</td>\n",
       "      <td>6490.08</td>\n",
       "      <td>6037.0</td>\n",
       "    </tr>\n",
       "    <tr>\n",
       "      <th>799516</th>\n",
       "      <td>18.0</td>\n",
       "      <td>18.0</td>\n",
       "      <td>9309.0</td>\n",
       "      <td>2325000.0</td>\n",
       "      <td>1986.0</td>\n",
       "      <td>29283.87</td>\n",
       "      <td>6037.0</td>\n",
       "    </tr>\n",
       "    <tr>\n",
       "      <th>1661135</th>\n",
       "      <td>18.0</td>\n",
       "      <td>0.0</td>\n",
       "      <td>26116.0</td>\n",
       "      <td>20260690.0</td>\n",
       "      <td>2002.0</td>\n",
       "      <td>243003.64</td>\n",
       "      <td>6037.0</td>\n",
       "    </tr>\n",
       "    <tr>\n",
       "      <th>1758193</th>\n",
       "      <td>18.0</td>\n",
       "      <td>18.0</td>\n",
       "      <td>11134.0</td>\n",
       "      <td>2353308.0</td>\n",
       "      <td>1986.0</td>\n",
       "      <td>29165.39</td>\n",
       "      <td>6037.0</td>\n",
       "    </tr>\n",
       "    <tr>\n",
       "      <th>1866663</th>\n",
       "      <td>16.0</td>\n",
       "      <td>16.0</td>\n",
       "      <td>7121.0</td>\n",
       "      <td>975000.0</td>\n",
       "      <td>1987.0</td>\n",
       "      <td>11218.15</td>\n",
       "      <td>6037.0</td>\n",
       "    </tr>\n",
       "  </tbody>\n",
       "</table>\n",
       "</div>"
      ],
      "text/plain": [
       "         bedroomcnt  bathroomcnt  calculatedfinishedsquarefeet  \\\n",
       "26485          25.0         20.0                       11700.0   \n",
       "650428         16.0          5.0                        2584.0   \n",
       "799516         18.0         18.0                        9309.0   \n",
       "1661135        18.0          0.0                       26116.0   \n",
       "1758193        18.0         18.0                       11134.0   \n",
       "1866663        16.0         16.0                        7121.0   \n",
       "\n",
       "         taxvaluedollarcnt  yearbuilt  taxamount    fips  \n",
       "26485            1608491.0     2010.0   19238.87  6037.0  \n",
       "650428            543654.0     1922.0    6490.08  6037.0  \n",
       "799516           2325000.0     1986.0   29283.87  6037.0  \n",
       "1661135         20260690.0     2002.0  243003.64  6037.0  \n",
       "1758193          2353308.0     1986.0   29165.39  6037.0  \n",
       "1866663           975000.0     1987.0   11218.15  6037.0  "
      ]
     },
     "execution_count": 35,
     "metadata": {},
     "output_type": "execute_result"
    }
   ],
   "source": [
    "#Looking for errors in data - 18 bedrooms and 0 bathrooms?\n",
    "df[df.bedroomcnt>15]"
   ]
  },
  {
   "cell_type": "code",
   "execution_count": 37,
   "id": "aa8defb4",
   "metadata": {},
   "outputs": [
    {
     "data": {
      "text/html": [
       "<div>\n",
       "<style scoped>\n",
       "    .dataframe tbody tr th:only-of-type {\n",
       "        vertical-align: middle;\n",
       "    }\n",
       "\n",
       "    .dataframe tbody tr th {\n",
       "        vertical-align: top;\n",
       "    }\n",
       "\n",
       "    .dataframe thead th {\n",
       "        text-align: right;\n",
       "    }\n",
       "</style>\n",
       "<table border=\"1\" class=\"dataframe\">\n",
       "  <thead>\n",
       "    <tr style=\"text-align: right;\">\n",
       "      <th></th>\n",
       "      <th>bedroomcnt</th>\n",
       "      <th>bathroomcnt</th>\n",
       "      <th>calculatedfinishedsquarefeet</th>\n",
       "      <th>taxvaluedollarcnt</th>\n",
       "      <th>yearbuilt</th>\n",
       "      <th>taxamount</th>\n",
       "      <th>fips</th>\n",
       "    </tr>\n",
       "  </thead>\n",
       "  <tbody>\n",
       "    <tr>\n",
       "      <th>11</th>\n",
       "      <td>0.0</td>\n",
       "      <td>0.0</td>\n",
       "      <td>1200.0</td>\n",
       "      <td>5328.0</td>\n",
       "      <td>1972.0</td>\n",
       "      <td>91.60</td>\n",
       "      <td>6037.0</td>\n",
       "    </tr>\n",
       "    <tr>\n",
       "      <th>14</th>\n",
       "      <td>0.0</td>\n",
       "      <td>0.0</td>\n",
       "      <td>171.0</td>\n",
       "      <td>6920.0</td>\n",
       "      <td>1973.0</td>\n",
       "      <td>255.17</td>\n",
       "      <td>6037.0</td>\n",
       "    </tr>\n",
       "    <tr>\n",
       "      <th>15</th>\n",
       "      <td>0.0</td>\n",
       "      <td>0.0</td>\n",
       "      <td>203.0</td>\n",
       "      <td>14166.0</td>\n",
       "      <td>1960.0</td>\n",
       "      <td>163.79</td>\n",
       "      <td>6037.0</td>\n",
       "    </tr>\n",
       "    <tr>\n",
       "      <th>398</th>\n",
       "      <td>3.0</td>\n",
       "      <td>0.0</td>\n",
       "      <td>2239.0</td>\n",
       "      <td>396608.0</td>\n",
       "      <td>1988.0</td>\n",
       "      <td>4404.22</td>\n",
       "      <td>6111.0</td>\n",
       "    </tr>\n",
       "    <tr>\n",
       "      <th>753</th>\n",
       "      <td>3.0</td>\n",
       "      <td>0.0</td>\n",
       "      <td>2421.0</td>\n",
       "      <td>1111120.0</td>\n",
       "      <td>1976.0</td>\n",
       "      <td>12394.16</td>\n",
       "      <td>6111.0</td>\n",
       "    </tr>\n",
       "    <tr>\n",
       "      <th>...</th>\n",
       "      <td>...</td>\n",
       "      <td>...</td>\n",
       "      <td>...</td>\n",
       "      <td>...</td>\n",
       "      <td>...</td>\n",
       "      <td>...</td>\n",
       "      <td>...</td>\n",
       "    </tr>\n",
       "    <tr>\n",
       "      <th>2149054</th>\n",
       "      <td>0.0</td>\n",
       "      <td>0.0</td>\n",
       "      <td>938.0</td>\n",
       "      <td>56733.0</td>\n",
       "      <td>1978.0</td>\n",
       "      <td>986.86</td>\n",
       "      <td>6037.0</td>\n",
       "    </tr>\n",
       "    <tr>\n",
       "      <th>2151453</th>\n",
       "      <td>2.0</td>\n",
       "      <td>0.0</td>\n",
       "      <td>1108.0</td>\n",
       "      <td>937075.0</td>\n",
       "      <td>1932.0</td>\n",
       "      <td>10851.50</td>\n",
       "      <td>6059.0</td>\n",
       "    </tr>\n",
       "    <tr>\n",
       "      <th>2152505</th>\n",
       "      <td>0.0</td>\n",
       "      <td>0.0</td>\n",
       "      <td>240.0</td>\n",
       "      <td>31234.0</td>\n",
       "      <td>1942.0</td>\n",
       "      <td>414.04</td>\n",
       "      <td>6037.0</td>\n",
       "    </tr>\n",
       "    <tr>\n",
       "      <th>2152704</th>\n",
       "      <td>0.0</td>\n",
       "      <td>1.0</td>\n",
       "      <td>1490.0</td>\n",
       "      <td>152000.0</td>\n",
       "      <td>1930.0</td>\n",
       "      <td>3614.40</td>\n",
       "      <td>6037.0</td>\n",
       "    </tr>\n",
       "    <tr>\n",
       "      <th>2152710</th>\n",
       "      <td>0.0</td>\n",
       "      <td>2.0</td>\n",
       "      <td>2140.0</td>\n",
       "      <td>338004.0</td>\n",
       "      <td>1928.0</td>\n",
       "      <td>4406.28</td>\n",
       "      <td>6037.0</td>\n",
       "    </tr>\n",
       "  </tbody>\n",
       "</table>\n",
       "<p>5326 rows × 7 columns</p>\n",
       "</div>"
      ],
      "text/plain": [
       "         bedroomcnt  bathroomcnt  calculatedfinishedsquarefeet  \\\n",
       "11              0.0          0.0                        1200.0   \n",
       "14              0.0          0.0                         171.0   \n",
       "15              0.0          0.0                         203.0   \n",
       "398             3.0          0.0                        2239.0   \n",
       "753             3.0          0.0                        2421.0   \n",
       "...             ...          ...                           ...   \n",
       "2149054         0.0          0.0                         938.0   \n",
       "2151453         2.0          0.0                        1108.0   \n",
       "2152505         0.0          0.0                         240.0   \n",
       "2152704         0.0          1.0                        1490.0   \n",
       "2152710         0.0          2.0                        2140.0   \n",
       "\n",
       "         taxvaluedollarcnt  yearbuilt  taxamount    fips  \n",
       "11                  5328.0     1972.0      91.60  6037.0  \n",
       "14                  6920.0     1973.0     255.17  6037.0  \n",
       "15                 14166.0     1960.0     163.79  6037.0  \n",
       "398               396608.0     1988.0    4404.22  6111.0  \n",
       "753              1111120.0     1976.0   12394.16  6111.0  \n",
       "...                    ...        ...        ...     ...  \n",
       "2149054            56733.0     1978.0     986.86  6037.0  \n",
       "2151453           937075.0     1932.0   10851.50  6059.0  \n",
       "2152505            31234.0     1942.0     414.04  6037.0  \n",
       "2152704           152000.0     1930.0    3614.40  6037.0  \n",
       "2152710           338004.0     1928.0    4406.28  6037.0  \n",
       "\n",
       "[5326 rows x 7 columns]"
      ]
     },
     "execution_count": 37,
     "metadata": {},
     "output_type": "execute_result"
    }
   ],
   "source": [
    "# 5326 rows have either 0 bedrooms or bathrooms - again, such a small amount that it's worth dropping\n",
    "# These are single family residential, so not looking at land without structures or a barn\n",
    "df[(df.bedroomcnt==0) | (df.bathroomcnt==0)]"
   ]
  },
  {
   "cell_type": "code",
   "execution_count": 40,
   "id": "9c5d0fc2",
   "metadata": {},
   "outputs": [],
   "source": [
    "# Drop all rows with either no bedrooms or bathrooms\n",
    "df = df.drop(df[(df.bedroomcnt==0) | (df.bathroomcnt==0)].index)"
   ]
  },
  {
   "cell_type": "code",
   "execution_count": 44,
   "id": "91203e89",
   "metadata": {},
   "outputs": [],
   "source": [
    "# Drop all properties under 250 square feet (this is a small tiny home)\n",
    "df = df.drop(df[df.calculatedfinishedsquarefeet<250].index)"
   ]
  },
  {
   "cell_type": "code",
   "execution_count": 46,
   "id": "47b7666f",
   "metadata": {},
   "outputs": [],
   "source": [
    "# Drop all properties where value is less than taxes\n",
    "df = df.drop(df[df.taxvaluedollarcnt<df.taxamount].index)"
   ]
  },
  {
   "cell_type": "code",
   "execution_count": 49,
   "id": "a169596a",
   "metadata": {},
   "outputs": [],
   "source": [
    "# Drop all properties built before 1850 - suspicious\n",
    "df = df.drop(df[df.yearbuilt<1850].index)"
   ]
  },
  {
   "cell_type": "code",
   "execution_count": 52,
   "id": "9c9be6d1",
   "metadata": {},
   "outputs": [],
   "source": [
    "# Drop properties that have more bathrooms than bedrooms\n",
    "df = df.drop(df[df.bedroomcnt<df.bathroomcnt].index)"
   ]
  },
  {
   "cell_type": "code",
   "execution_count": 53,
   "id": "df09981e",
   "metadata": {},
   "outputs": [
    {
     "data": {
      "text/html": [
       "<div>\n",
       "<style scoped>\n",
       "    .dataframe tbody tr th:only-of-type {\n",
       "        vertical-align: middle;\n",
       "    }\n",
       "\n",
       "    .dataframe tbody tr th {\n",
       "        vertical-align: top;\n",
       "    }\n",
       "\n",
       "    .dataframe thead th {\n",
       "        text-align: right;\n",
       "    }\n",
       "</style>\n",
       "<table border=\"1\" class=\"dataframe\">\n",
       "  <thead>\n",
       "    <tr style=\"text-align: right;\">\n",
       "      <th></th>\n",
       "      <th>bedroomcnt</th>\n",
       "      <th>bathroomcnt</th>\n",
       "      <th>calculatedfinishedsquarefeet</th>\n",
       "      <th>taxvaluedollarcnt</th>\n",
       "      <th>yearbuilt</th>\n",
       "      <th>taxamount</th>\n",
       "      <th>fips</th>\n",
       "    </tr>\n",
       "  </thead>\n",
       "  <tbody>\n",
       "    <tr>\n",
       "      <th>count</th>\n",
       "      <td>2.054416e+06</td>\n",
       "      <td>2.054416e+06</td>\n",
       "      <td>2.054416e+06</td>\n",
       "      <td>2.054416e+06</td>\n",
       "      <td>2.054416e+06</td>\n",
       "      <td>2.054416e+06</td>\n",
       "      <td>2.054416e+06</td>\n",
       "    </tr>\n",
       "    <tr>\n",
       "      <th>mean</th>\n",
       "      <td>3.300318e+00</td>\n",
       "      <td>2.154704e+00</td>\n",
       "      <td>1.784704e+03</td>\n",
       "      <td>4.114300e+05</td>\n",
       "      <td>1.960196e+03</td>\n",
       "      <td>5.054941e+03</td>\n",
       "      <td>6.048199e+03</td>\n",
       "    </tr>\n",
       "    <tr>\n",
       "      <th>std</th>\n",
       "      <td>9.028749e-01</td>\n",
       "      <td>8.356171e-01</td>\n",
       "      <td>1.028605e+03</td>\n",
       "      <td>4.400658e+05</td>\n",
       "      <td>2.161895e+01</td>\n",
       "      <td>5.083658e+03</td>\n",
       "      <td>2.034288e+01</td>\n",
       "    </tr>\n",
       "    <tr>\n",
       "      <th>min</th>\n",
       "      <td>1.000000e+00</td>\n",
       "      <td>5.000000e-01</td>\n",
       "      <td>2.500000e+02</td>\n",
       "      <td>7.220000e+02</td>\n",
       "      <td>1.855000e+03</td>\n",
       "      <td>1.648000e+01</td>\n",
       "      <td>6.037000e+03</td>\n",
       "    </tr>\n",
       "    <tr>\n",
       "      <th>25%</th>\n",
       "      <td>3.000000e+00</td>\n",
       "      <td>2.000000e+00</td>\n",
       "      <td>1.248000e+03</td>\n",
       "      <td>1.850130e+05</td>\n",
       "      <td>1.949000e+03</td>\n",
       "      <td>2.494320e+03</td>\n",
       "      <td>6.037000e+03</td>\n",
       "    </tr>\n",
       "    <tr>\n",
       "      <th>50%</th>\n",
       "      <td>3.000000e+00</td>\n",
       "      <td>2.000000e+00</td>\n",
       "      <td>1.600000e+03</td>\n",
       "      <td>3.192950e+05</td>\n",
       "      <td>1.958000e+03</td>\n",
       "      <td>4.013060e+03</td>\n",
       "      <td>6.037000e+03</td>\n",
       "    </tr>\n",
       "    <tr>\n",
       "      <th>75%</th>\n",
       "      <td>4.000000e+00</td>\n",
       "      <td>3.000000e+00</td>\n",
       "      <td>2.138000e+03</td>\n",
       "      <td>5.101502e+05</td>\n",
       "      <td>1.974000e+03</td>\n",
       "      <td>6.144185e+03</td>\n",
       "      <td>6.059000e+03</td>\n",
       "    </tr>\n",
       "    <tr>\n",
       "      <th>max</th>\n",
       "      <td>2.500000e+01</td>\n",
       "      <td>2.000000e+01</td>\n",
       "      <td>9.525760e+05</td>\n",
       "      <td>5.025488e+07</td>\n",
       "      <td>2.016000e+03</td>\n",
       "      <td>6.006166e+05</td>\n",
       "      <td>6.111000e+03</td>\n",
       "    </tr>\n",
       "  </tbody>\n",
       "</table>\n",
       "</div>"
      ],
      "text/plain": [
       "         bedroomcnt   bathroomcnt  calculatedfinishedsquarefeet  \\\n",
       "count  2.054416e+06  2.054416e+06                  2.054416e+06   \n",
       "mean   3.300318e+00  2.154704e+00                  1.784704e+03   \n",
       "std    9.028749e-01  8.356171e-01                  1.028605e+03   \n",
       "min    1.000000e+00  5.000000e-01                  2.500000e+02   \n",
       "25%    3.000000e+00  2.000000e+00                  1.248000e+03   \n",
       "50%    3.000000e+00  2.000000e+00                  1.600000e+03   \n",
       "75%    4.000000e+00  3.000000e+00                  2.138000e+03   \n",
       "max    2.500000e+01  2.000000e+01                  9.525760e+05   \n",
       "\n",
       "       taxvaluedollarcnt     yearbuilt     taxamount          fips  \n",
       "count       2.054416e+06  2.054416e+06  2.054416e+06  2.054416e+06  \n",
       "mean        4.114300e+05  1.960196e+03  5.054941e+03  6.048199e+03  \n",
       "std         4.400658e+05  2.161895e+01  5.083658e+03  2.034288e+01  \n",
       "min         7.220000e+02  1.855000e+03  1.648000e+01  6.037000e+03  \n",
       "25%         1.850130e+05  1.949000e+03  2.494320e+03  6.037000e+03  \n",
       "50%         3.192950e+05  1.958000e+03  4.013060e+03  6.037000e+03  \n",
       "75%         5.101502e+05  1.974000e+03  6.144185e+03  6.059000e+03  \n",
       "max         5.025488e+07  2.016000e+03  6.006166e+05  6.111000e+03  "
      ]
     },
     "execution_count": 53,
     "metadata": {},
     "output_type": "execute_result"
    }
   ],
   "source": [
    "df.describe()"
   ]
  },
  {
   "cell_type": "code",
   "execution_count": 56,
   "id": "f9bef88e",
   "metadata": {},
   "outputs": [
    {
     "data": {
      "text/plain": [
       "1.0"
      ]
     },
     "execution_count": 56,
     "metadata": {},
     "output_type": "execute_result"
    }
   ],
   "source": [
    "df.bedroomcnt.min()"
   ]
  },
  {
   "cell_type": "code",
   "execution_count": 58,
   "id": "f49ac923",
   "metadata": {},
   "outputs": [],
   "source": [
    "def wrangle_zillow():\n",
    "    df = get_zillow_2017()\n",
    "\n",
    "    # Lose very small amount dropping nan values\n",
    "    df = df.dropna()\n",
    "    # Drop all rows with either no bedrooms or bathrooms\n",
    "    df = df.drop(df[(df.bedroomcnt==0) | (df.bathroomcnt==0)].index)\n",
    "    # Drop all properties under 250 square feet (this is a small tiny home)\n",
    "    df = df.drop(df[df.calculatedfinishedsquarefeet<250].index)\n",
    "    # Drop all properties where value is less than taxes\n",
    "    df = df.drop(df[df.taxvaluedollarcnt<df.taxamount].index)\n",
    "    # Drop all properties built before 1850 - suspicious\n",
    "    df = df.drop(df[df.yearbuilt<1850].index)\n",
    "    # Drop properties that have more bathrooms than bedrooms\n",
    "    df = df.drop(df[df.bedroomcnt<df.bathroomcnt].index)\n",
    "    return df"
   ]
  },
  {
   "cell_type": "markdown",
   "id": "0431e11b",
   "metadata": {},
   "source": [
    "# Based on the work you've done, choose a scaling method for your dataset. Write a function within your prepare.py that accepts as input the train, validate, and test data splits, and returns the scaled versions of each. Be sure to only learn the parameters for scaling from your training data!"
   ]
  },
  {
   "cell_type": "code",
   "execution_count": null,
   "id": "237592a9",
   "metadata": {},
   "outputs": [],
   "source": []
  }
 ],
 "metadata": {
  "kernelspec": {
   "display_name": "Python 3 (ipykernel)",
   "language": "python",
   "name": "python3"
  },
  "language_info": {
   "codemirror_mode": {
    "name": "ipython",
    "version": 3
   },
   "file_extension": ".py",
   "mimetype": "text/x-python",
   "name": "python",
   "nbconvert_exporter": "python",
   "pygments_lexer": "ipython3",
   "version": "3.9.7"
  }
 },
 "nbformat": 4,
 "nbformat_minor": 5
}
