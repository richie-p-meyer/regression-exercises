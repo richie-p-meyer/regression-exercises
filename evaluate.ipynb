{
 "cells": [
  {
   "cell_type": "code",
   "execution_count": 71,
   "id": "bc0df4b6",
   "metadata": {},
   "outputs": [],
   "source": [
    "import pandas as pd\n",
    "import numpy as np\n",
    "\n",
    "import matplotlib.pyplot as plt\n",
    "import seaborn as sns\n",
    "\n",
    "from sklearn.linear_model import LinearRegression\n",
    "import numpy as np\n",
    "\n",
    "import matplotlib.pyplot as plt\n",
    "import seaborn as sns\n",
    "\n",
    "\n",
    "import math\n",
    "from sklearn.preprocessing import MinMaxScaler\n",
    "from sklearn.model_selection import train_test_split\n",
    "from scipy.stats import pearsonr, spearmanr\n",
    "from sklearn.linear_model import LinearRegression\n",
    "from sklearn.metrics import r2_score, mean_squared_error\n",
    "from sklearn.metrics import explained_variance_score\n",
    "\n",
    "import wrangle"
   ]
  },
  {
   "cell_type": "code",
   "execution_count": 2,
   "id": "a64b2dc6",
   "metadata": {},
   "outputs": [],
   "source": [
    "df, train, validate, test = wrangle.wrangle_zillow()"
   ]
  },
  {
   "cell_type": "markdown",
   "id": "383c456a",
   "metadata": {},
   "source": [
    "### Fit a linear regression model (ordinary least squares) and compute yhat, predictions of taxvaluedollarcnt using only calculatedfinishedsqft."
   ]
  },
  {
   "cell_type": "code",
   "execution_count": 9,
   "id": "ed995f44",
   "metadata": {},
   "outputs": [],
   "source": [
    "model = LinearRegression().fit(train[['calculatedfinishedsquarefeet']],train[['taxvaluedollarcnt']])\n",
    "predictions = model.predict(train[['calculatedfinishedsquarefeet']])"
   ]
  },
  {
   "cell_type": "code",
   "execution_count": 10,
   "id": "b912ceca",
   "metadata": {},
   "outputs": [],
   "source": [
    "train.loc[:,'yhat'] = predictions"
   ]
  },
  {
   "cell_type": "markdown",
   "id": "b81d7465",
   "metadata": {},
   "source": [
    "### Plot the residuals for the linear regression model that you made."
   ]
  },
  {
   "cell_type": "code",
   "execution_count": 11,
   "id": "4a3f37c2",
   "metadata": {},
   "outputs": [],
   "source": [
    "train.loc[:,'yhat_res'] = train.yhat - train.taxvaluedollarcnt"
   ]
  },
  {
   "cell_type": "code",
   "execution_count": 66,
   "id": "32334fa0",
   "metadata": {},
   "outputs": [
    {
     "data": {
      "text/plain": [
       "<matplotlib.collections.PathCollection at 0x7fe31cea2d90>"
      ]
     },
     "execution_count": 66,
     "metadata": {},
     "output_type": "execute_result"
    },
    {
     "data": {
      "image/png": "[encoded data removed]",
      "text/plain": [
       "<Figure size 432x288 with 1 Axes>"
      ]
     },
     "metadata": {
      "needs_background": "light"
     },
     "output_type": "display_data"
    }
   ],
   "source": [
    "plt.scatter(train[['taxvaluedollarcnt']],train[['yhat_res']])"
   ]
  },
  {
   "cell_type": "markdown",
   "id": "42432e1f",
   "metadata": {},
   "source": [
    "1. Calculate the sum of squared errors, explained sum of squares, total sum of squares, mean squared error, and root mean squared error for your model.  \n",
    "2. Calculate the sum of squared errors, mean squared error, and root mean squared error for the baseline model (i.e. a model that always predicts the average taxvaluedollarcnt amount)."
   ]
  },
  {
   "cell_type": "code",
   "execution_count": 33,
   "id": "b68ce13a",
   "metadata": {},
   "outputs": [],
   "source": [
    "train['baseline_preds'] = train.taxvaluedollarcnt.mean()\n",
    "train['baseline_res'] = train['baseline_preds'] - train['taxvaluedollarcnt']"
   ]
  },
  {
   "cell_type": "code",
   "execution_count": 34,
   "id": "e12654ba",
   "metadata": {},
   "outputs": [
    {
     "data": {
      "text/plain": [
       "(1.5386766766765565e+17, 1.9419703390726077e+17)"
      ]
     },
     "execution_count": 34,
     "metadata": {},
     "output_type": "execute_result"
    }
   ],
   "source": [
    "sse_yhat = sum(train['yhat_res']**2)\n",
    "sse_base = sum(train['baseline_preds']**2)\n",
    "sse_yhat, sse_base"
   ]
  },
  {
   "cell_type": "code",
   "execution_count": 35,
   "id": "fa2a21e3",
   "metadata": {},
   "outputs": [
    {
     "data": {
      "text/plain": [
       "(133743079073.33307, 168797705556.7287)"
      ]
     },
     "execution_count": 35,
     "metadata": {},
     "output_type": "execute_result"
    }
   ],
   "source": [
    "mse_yhat = sse_yhat / len(train)\n",
    "mse_base = sse_base / len(train)\n",
    "mse_yhat,mse_base"
   ]
  },
  {
   "cell_type": "code",
   "execution_count": 48,
   "id": "06d5a4b1",
   "metadata": {},
   "outputs": [
    {
     "data": {
      "text/plain": [
       "(2054416, 7)"
      ]
     },
     "execution_count": 48,
     "metadata": {},
     "output_type": "execute_result"
    }
   ],
   "source": [
    "df.shape"
   ]
  },
  {
   "cell_type": "code",
   "execution_count": 36,
   "id": "e319624d",
   "metadata": {},
   "outputs": [
    {
     "data": {
      "text/plain": [
       "(365709.0087396441, 410849.9793802218)"
      ]
     },
     "execution_count": 36,
     "metadata": {},
     "output_type": "execute_result"
    }
   ],
   "source": [
    "rmse_yhat = sqrt(mse_yhat)\n",
    "rmse_base = sqrt(mse_base)\n",
    "rmse_yhat, rmse_base"
   ]
  },
  {
   "cell_type": "markdown",
   "id": "dfdbfef7",
   "metadata": {},
   "source": [
    "### Write python code that compares the sum of squared errors for your model against the sum of squared errors for the baseline model and outputs whether or not your model performs better than the baseline model."
   ]
  },
  {
   "cell_type": "code",
   "execution_count": 37,
   "id": "e169d009",
   "metadata": {},
   "outputs": [
    {
     "name": "stdout",
     "output_type": "stream",
     "text": [
      "Our model performs better than the baseline\n"
     ]
    }
   ],
   "source": [
    "if sse_yhat < sse_base:\n",
    "    print('Our model performs better than the baseline')\n",
    "else:\n",
    "    print('Our model DOES NOT perform better than the baseline')"
   ]
  },
  {
   "cell_type": "markdown",
   "id": "417027e0",
   "metadata": {},
   "source": [
    "### What is the amount of variance explained in your model?"
   ]
  },
  {
   "cell_type": "code",
   "execution_count": 38,
   "id": "67010a8d",
   "metadata": {},
   "outputs": [],
   "source": [
    "train['yhat_mean_res'] = train['yhat'] - train['baseline_preds']\n",
    "train['yhat_mean_res_squared'] = train['yhat_mean_res'] ** 2"
   ]
  },
  {
   "cell_type": "code",
   "execution_count": 44,
   "id": "7353d5f1",
   "metadata": {},
   "outputs": [
    {
     "data": {
      "text/plain": [
       "6.1594832006603096e+16"
      ]
     },
     "execution_count": 44,
     "metadata": {},
     "output_type": "execute_result"
    }
   ],
   "source": [
    "ess_base = 0\n",
    "ess_yhat = train['yhat_mean_res_squared'].sum()\n",
    "ess_yhat"
   ]
  },
  {
   "cell_type": "code",
   "execution_count": 41,
   "id": "cadefcfa",
   "metadata": {},
   "outputs": [
    {
     "data": {
      "text/html": [
       "<div>\n",
       "<style scoped>\n",
       "    .dataframe tbody tr th:only-of-type {\n",
       "        vertical-align: middle;\n",
       "    }\n",
       "\n",
       "    .dataframe tbody tr th {\n",
       "        vertical-align: top;\n",
       "    }\n",
       "\n",
       "    .dataframe thead th {\n",
       "        text-align: right;\n",
       "    }\n",
       "</style>\n",
       "<table border=\"1\" class=\"dataframe\">\n",
       "  <thead>\n",
       "    <tr style=\"text-align: right;\">\n",
       "      <th></th>\n",
       "      <th>bedroomcnt</th>\n",
       "      <th>bathroomcnt</th>\n",
       "      <th>calculatedfinishedsquarefeet</th>\n",
       "      <th>taxvaluedollarcnt</th>\n",
       "      <th>yearbuilt</th>\n",
       "      <th>taxamount</th>\n",
       "      <th>fips</th>\n",
       "      <th>yhat</th>\n",
       "      <th>yhat_res</th>\n",
       "      <th>baseline_preds</th>\n",
       "      <th>baseline_res</th>\n",
       "      <th>yhat_mean_res</th>\n",
       "      <th>yhat_mean_res_squared</th>\n",
       "    </tr>\n",
       "  </thead>\n",
       "  <tbody>\n",
       "    <tr>\n",
       "      <th>1742277</th>\n",
       "      <td>3.0</td>\n",
       "      <td>2.0</td>\n",
       "      <td>1399.0</td>\n",
       "      <td>185672.0</td>\n",
       "      <td>1977.0</td>\n",
       "      <td>2388.72</td>\n",
       "      <td>6059.0</td>\n",
       "      <td>297457.108117</td>\n",
       "      <td>111785.108117</td>\n",
       "      <td>410849.979378</td>\n",
       "      <td>225177.979378</td>\n",
       "      <td>-113392.871261</td>\n",
       "      <td>1.285794e+10</td>\n",
       "    </tr>\n",
       "    <tr>\n",
       "      <th>1384115</th>\n",
       "      <td>3.0</td>\n",
       "      <td>2.0</td>\n",
       "      <td>2128.0</td>\n",
       "      <td>397599.0</td>\n",
       "      <td>1968.0</td>\n",
       "      <td>4660.54</td>\n",
       "      <td>6037.0</td>\n",
       "      <td>511967.931018</td>\n",
       "      <td>114368.931018</td>\n",
       "      <td>410849.979378</td>\n",
       "      <td>13250.979378</td>\n",
       "      <td>101117.951640</td>\n",
       "      <td>1.022484e+10</td>\n",
       "    </tr>\n",
       "    <tr>\n",
       "      <th>1251790</th>\n",
       "      <td>3.0</td>\n",
       "      <td>2.0</td>\n",
       "      <td>1224.0</td>\n",
       "      <td>793679.0</td>\n",
       "      <td>1964.0</td>\n",
       "      <td>8945.97</td>\n",
       "      <td>6037.0</td>\n",
       "      <td>245962.740479</td>\n",
       "      <td>-547716.259521</td>\n",
       "      <td>410849.979378</td>\n",
       "      <td>-382829.020622</td>\n",
       "      <td>-164887.238899</td>\n",
       "      <td>2.718780e+10</td>\n",
       "    </tr>\n",
       "    <tr>\n",
       "      <th>918867</th>\n",
       "      <td>3.0</td>\n",
       "      <td>2.0</td>\n",
       "      <td>1616.0</td>\n",
       "      <td>245569.0</td>\n",
       "      <td>1933.0</td>\n",
       "      <td>3026.18</td>\n",
       "      <td>6037.0</td>\n",
       "      <td>361310.123987</td>\n",
       "      <td>115741.123987</td>\n",
       "      <td>410849.979378</td>\n",
       "      <td>165280.979378</td>\n",
       "      <td>-49539.855391</td>\n",
       "      <td>2.454197e+09</td>\n",
       "    </tr>\n",
       "    <tr>\n",
       "      <th>410924</th>\n",
       "      <td>4.0</td>\n",
       "      <td>3.0</td>\n",
       "      <td>2652.0</td>\n",
       "      <td>470778.0</td>\n",
       "      <td>1977.0</td>\n",
       "      <td>5850.57</td>\n",
       "      <td>6037.0</td>\n",
       "      <td>666156.780401</td>\n",
       "      <td>195378.780401</td>\n",
       "      <td>410849.979378</td>\n",
       "      <td>-59928.020622</td>\n",
       "      <td>255306.801023</td>\n",
       "      <td>6.518156e+10</td>\n",
       "    </tr>\n",
       "  </tbody>\n",
       "</table>\n",
       "</div>"
      ],
      "text/plain": [
       "         bedroomcnt  bathroomcnt  calculatedfinishedsquarefeet  \\\n",
       "1742277         3.0          2.0                        1399.0   \n",
       "1384115         3.0          2.0                        2128.0   \n",
       "1251790         3.0          2.0                        1224.0   \n",
       "918867          3.0          2.0                        1616.0   \n",
       "410924          4.0          3.0                        2652.0   \n",
       "\n",
       "         taxvaluedollarcnt  yearbuilt  taxamount    fips           yhat  \\\n",
       "1742277           185672.0     1977.0    2388.72  6059.0  297457.108117   \n",
       "1384115           397599.0     1968.0    4660.54  6037.0  511967.931018   \n",
       "1251790           793679.0     1964.0    8945.97  6037.0  245962.740479   \n",
       "918867            245569.0     1933.0    3026.18  6037.0  361310.123987   \n",
       "410924            470778.0     1977.0    5850.57  6037.0  666156.780401   \n",
       "\n",
       "              yhat_res  baseline_preds   baseline_res  yhat_mean_res  \\\n",
       "1742277  111785.108117   410849.979378  225177.979378 -113392.871261   \n",
       "1384115  114368.931018   410849.979378   13250.979378  101117.951640   \n",
       "1251790 -547716.259521   410849.979378 -382829.020622 -164887.238899   \n",
       "918867   115741.123987   410849.979378  165280.979378  -49539.855391   \n",
       "410924   195378.780401   410849.979378  -59928.020622  255306.801023   \n",
       "\n",
       "         yhat_mean_res_squared  \n",
       "1742277           1.285794e+10  \n",
       "1384115           1.022484e+10  \n",
       "1251790           2.718780e+10  \n",
       "918867            2.454197e+09  \n",
       "410924            6.518156e+10  "
      ]
     },
     "execution_count": 41,
     "metadata": {},
     "output_type": "execute_result"
    }
   ],
   "source": [
    "train.head()"
   ]
  },
  {
   "cell_type": "code",
   "execution_count": 45,
   "id": "db8a7a61",
   "metadata": {},
   "outputs": [],
   "source": [
    "tss_baseline = sse_base + ess_base\n",
    "tss_yhat = sse_yhat + ess_yhat"
   ]
  },
  {
   "cell_type": "code",
   "execution_count": 46,
   "id": "fd0543e0",
   "metadata": {},
   "outputs": [
    {
     "data": {
      "text/plain": [
       "0.0"
      ]
     },
     "execution_count": 46,
     "metadata": {},
     "output_type": "execute_result"
    }
   ],
   "source": [
    "ess_baseline / tss_baseline"
   ]
  },
  {
   "cell_type": "code",
   "execution_count": 47,
   "id": "cb1199e7",
   "metadata": {},
   "outputs": [
    {
     "data": {
      "text/plain": [
       "0.2858726325913957"
      ]
     },
     "execution_count": 47,
     "metadata": {},
     "output_type": "execute_result"
    }
   ],
   "source": [
    "ess_yhat / tss_yhat"
   ]
  },
  {
   "cell_type": "markdown",
   "id": "5757e854",
   "metadata": {},
   "source": [
    "Is your model better than the baseline model?"
   ]
  },
  {
   "cell_type": "markdown",
   "id": "1a7674f0",
   "metadata": {},
   "source": [
    "Yes, our R^2 is greater and RMSE smaller for our model compared to baseline\n"
   ]
  },
  {
   "cell_type": "code",
   "execution_count": 64,
   "id": "12efdcb8",
   "metadata": {},
   "outputs": [],
   "source": [
    "def plot_residuals(y,yhat):\n",
    "    '''\n",
    "    y is the variable you're using to make your prediction\n",
    "    yhat is the residual from your predictions\n",
    "    '''\n",
    "    import matplotlib.pyplot as plt\n",
    "    res = yhat-y\n",
    "    plt.scatter(y,res)\n",
    "    plt.show()  "
   ]
  },
  {
   "cell_type": "code",
   "execution_count": 65,
   "id": "fd3b02fb",
   "metadata": {},
   "outputs": [
    {
     "data": {
      "image/png": "[encoded data removed]",
      "text/plain": [
       "<Figure size 432x288 with 1 Axes>"
      ]
     },
     "metadata": {
      "needs_background": "light"
     },
     "output_type": "display_data"
    }
   ],
   "source": [
    "plot_residuals(train['taxvaluedollarcnt'],train['yhat_res'])"
   ]
  },
  {
   "cell_type": "code",
   "execution_count": 73,
   "id": "37de09c6",
   "metadata": {},
   "outputs": [],
   "source": [
    "\n",
    "def regression_errors(y, yhat):\n",
    "    '''\n",
    "    This function takes in actual value and predicted value \n",
    "    then outputs: the sse, ess, tss, mse, and rmse\n",
    "    '''\n",
    "    MSE = mean_squared_error(y, yhat)\n",
    "    SSE = MSE * len(y)\n",
    "    RMSE = math.sqrt(MSE)\n",
    "    ESS = ((yhat - y.mean())**2).sum()\n",
    "    TSS = ESS + SSE\n",
    "    \n",
    "    return MSE, SSE, RMSE, ESS, TSS"
   ]
  },
  {
   "cell_type": "code",
   "execution_count": 74,
   "id": "e2382440",
   "metadata": {},
   "outputs": [
    {
     "data": {
      "text/plain": [
       "(133743079073.33705,\n",
       " 1.5386766766766022e+17,\n",
       " 365709.00873964955,\n",
       " 6.1594832006603096e+16,\n",
       " 2.1546249967426333e+17)"
      ]
     },
     "execution_count": 74,
     "metadata": {},
     "output_type": "execute_result"
    }
   ],
   "source": [
    "regression_errors(train.taxvaluedollarcnt,train.yhat)"
   ]
  },
  {
   "cell_type": "code",
   "execution_count": 72,
   "id": "8c719c80",
   "metadata": {},
   "outputs": [],
   "source": [
    "def regression_errors_print(y, yhat):\n",
    "    '''\n",
    "    This function takes in actual value and predicted value \n",
    "    then outputs: the sse, ess, tss, mse, and rmse\n",
    "    '''\n",
    "    MSE = mean_squared_error(y, yhat)\n",
    "    SSE = MSE * len(y)\n",
    "    RMSE = math.sqrt(MSE)\n",
    "    ESS = ((yhat - y.mean())**2).sum()\n",
    "    TSS = ESS + SSE\n",
    "        \n",
    "    print(f''' \n",
    "        SSE: {SSE: .4f}\n",
    "        ESS: {ESS: .4f}\n",
    "        TSS: {TSS: .4f}\n",
    "        MSE: {MSE: .4f}\n",
    "        RMSE: {RMSE: .4f}\n",
    "        ''')"
   ]
  },
  {
   "cell_type": "code",
   "execution_count": null,
   "id": "aa49d29b",
   "metadata": {},
   "outputs": [],
   "source": []
  }
 ],
 "metadata": {
  "kernelspec": {
   "display_name": "Python 3 (ipykernel)",
   "language": "python",
   "name": "python3"
  },
  "language_info": {
   "codemirror_mode": {
    "name": "ipython",
    "version": 3
   },
   "file_extension": ".py",
   "mimetype": "text/x-python",
   "name": "python",
   "nbconvert_exporter": "python",
   "pygments_lexer": "ipython3",
   "version": "3.9.7"
  }
 },
 "nbformat": 4,
 "nbformat_minor": 5
}
