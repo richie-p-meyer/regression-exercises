{
 "cells": [
  {
   "cell_type": "code",
   "execution_count": 1,
   "id": "152403fa",
   "metadata": {},
   "outputs": [],
   "source": [
    "import pandas as pd\n",
    "import numpy as np\n",
    "import wrangle\n",
    "import matplotlib.pyplot as plt\n",
    "from math import sqrt\n",
    "\n",
    "# modeling methods\n",
    "from sklearn.metrics import mean_squared_error\n",
    "from sklearn.linear_model import LinearRegression, LassoLars, TweedieRegressor\n",
    "from sklearn.preprocessing import PolynomialFeatures\n",
    "\n",
    "import warnings\n",
    "warnings.filterwarnings(\"ignore\")\n",
    "\n"
   ]
  },
  {
   "cell_type": "code",
   "execution_count": 2,
   "id": "e223d813",
   "metadata": {},
   "outputs": [
    {
     "data": {
      "text/plain": [
       "((100000, 7), (56000, 8), (24000, 7), (20000, 7))"
      ]
     },
     "execution_count": 2,
     "metadata": {},
     "output_type": "execute_result"
    }
   ],
   "source": [
    "# Acquire and clean data\n",
    "df = wrangle.wrangle_zillow()\n",
    "df = df.sample(100000,random_state=21)\n",
    "\n",
    "# Get dummies for fips\n",
    "full = pd.get_dummies(df,columns=['fips'],drop_first=True)\n",
    "\n",
    "# Split df\n",
    "train, X_train, y_train, X_val, y_val, X_test, y_test = wrangle.split_data(full,'value')\n",
    "df.shape, train.shape, X_val.shape, X_test.shape"
   ]
  },
  {
   "cell_type": "code",
   "execution_count": 3,
   "id": "837a2f6f",
   "metadata": {},
   "outputs": [],
   "source": [
    "y_val = pd.DataFrame(y_val)\n"
   ]
  },
  {
   "cell_type": "code",
   "execution_count": 4,
   "id": "68fad992",
   "metadata": {},
   "outputs": [],
   "source": [
    "# Establish baseline predictions \n",
    "y_train = pd.DataFrame(y_train)\n",
    "y_train['base_mean'] = round(y_train.value.mean(),1)\n",
    "y_train['base_median'] = round(y_train.value.median(),1)\n"
   ]
  },
  {
   "cell_type": "code",
   "execution_count": 5,
   "id": "1405efae",
   "metadata": {},
   "outputs": [
    {
     "name": "stdout",
     "output_type": "stream",
     "text": [
      "RMSE Mean: \n",
      "465755.3753754042\n",
      "\n",
      "\n",
      "RMSE Median: \n",
      "475355.5144812572\n"
     ]
    }
   ],
   "source": [
    "# Evaluate baseline models using RMSE - we will use Mean as the baseline\n",
    "rmse_train_mean = mean_squared_error(y_train.value,y_train.base_mean)**(1/2)\n",
    "rmse_train_median = mean_squared_error(y_train.value, y_train.base_median)**(1/2)\n",
    "\n",
    "print('RMSE Mean: '),print(rmse_train_mean)\n",
    "print('\\n')\n",
    "print('RMSE Median: '),print(rmse_train_median)\n",
    "\n",
    "rmse = {'baseline':rmse_train_mean}"
   ]
  },
  {
   "cell_type": "code",
   "execution_count": 6,
   "id": "453682d9",
   "metadata": {},
   "outputs": [],
   "source": [
    "rmse_val = {}"
   ]
  },
  {
   "cell_type": "code",
   "execution_count": 7,
   "id": "57eee7a0",
   "metadata": {},
   "outputs": [],
   "source": [
    "# Make predictions using LinearRegression, store RMSE in dict\n",
    "lm = LinearRegression()\n",
    "lm.fit(X_train, y_train.value)\n",
    "y_train['lm'] = lm.predict(X_train).round(1)\n",
    "rmse['lm'] = sqrt(mean_squared_error(y_train.value,y_train.lm))\n"
   ]
  },
  {
   "cell_type": "code",
   "execution_count": 8,
   "id": "c3fb0617",
   "metadata": {},
   "outputs": [],
   "source": [
    "# Make predictions using LassoLars, store RMSE in dict\n",
    "lasso = LassoLars(alpha=.1)\n",
    "lasso.fit(X_train, y_train.value)\n",
    "y_train['lasso'] = lasso.predict(X_train).round(1)\n",
    "rmse['lasso'] = sqrt(mean_squared_error(y_train.value,y_train.lasso))"
   ]
  },
  {
   "cell_type": "code",
   "execution_count": 9,
   "id": "741d71b3",
   "metadata": {},
   "outputs": [],
   "source": [
    "# Make predictions using Tweedy, store RMSE in dict\n",
    "tweedy = TweedieRegressor(power=0)\n",
    "tweedy.fit(X_train, y_train.value)\n",
    "y_train['tweedy0'] = tweedy.predict(X_train).round(1)\n",
    "rmse['tweedy0'] = sqrt(mean_squared_error(y_train.value,y_train.tweedy0))"
   ]
  },
  {
   "cell_type": "code",
   "execution_count": 10,
   "id": "1ee33caf",
   "metadata": {},
   "outputs": [],
   "source": [
    "# Make predictions using Tweedy using power = 1, store RMSE in dict\n",
    "tweedy1 = TweedieRegressor(power=1)\n",
    "tweedy1.fit(X_train, y_train.value)\n",
    "y_train['tweedy1'] = tweedy1.predict(X_train).round(1)\n",
    "rmse['tweedy1'] = sqrt(mean_squared_error(y_train.value,y_train.tweedy1))"
   ]
  },
  {
   "cell_type": "code",
   "execution_count": 11,
   "id": "8bbef52a",
   "metadata": {},
   "outputs": [],
   "source": [
    "# Transform our X_train and X_val set into polynomials of range 1-3\n",
    "pf1 = PolynomialFeatures(degree=1)\n",
    "X_train_degree1 = pf1.fit_transform(X_train)\n",
    "X_val_degree1 = pf1.fit_transform(X_val)\n",
    "\n",
    "pf2 = PolynomialFeatures(degree=2)\n",
    "X_train_degree2 = pf2.fit_transform(X_train)\n",
    "X_val_degree2 = pf2.fit_transform(X_val)\n",
    "\n",
    "pf3 = PolynomialFeatures(degree=3)\n",
    "X_train_degree3 = pf3.fit_transform(X_train)\n",
    "X_val_degree3 = pf3.fit_transform(X_val)\n",
    "X_test_degree3 = pf3.fit_transform(X_test)"
   ]
  },
  {
   "cell_type": "code",
   "execution_count": 12,
   "id": "d9dceb5a",
   "metadata": {},
   "outputs": [],
   "source": [
    "# Use our poly transformed X_train set with a LinearRegression model\n",
    "lm_poly = LinearRegression(normalize=True)\n",
    "lm_poly.fit(X_train_degree1,y_train.value)\n",
    "y_train['lmpoly1'] = lm_poly.predict(X_train_degree1)\n",
    "rmse['lmpoly1'] = sqrt(mean_squared_error(y_train.value,y_train.lmpoly1))\n",
    "\n",
    "y_val['lmpoly1'] = lm_poly.predict(X_val_degree1)\n",
    "rmse_val['lmpoly1'] = sqrt(mean_squared_error(y_val.value,y_val.lmpoly1))\n",
    "\n",
    "lm_poly2 = LinearRegression(normalize=True)\n",
    "lm_poly2.fit(X_train_degree2,y_train.value)\n",
    "y_train['lmpoly2'] = lm_poly2.predict(X_train_degree2)\n",
    "rmse['lmpoly2'] = sqrt(mean_squared_error(y_train.value,y_train.lmpoly2))\n",
    "\n",
    "y_val['lmpoly2'] = lm_poly2.predict(X_val_degree2)\n",
    "rmse_val['lmpoly2'] = sqrt(mean_squared_error(y_val.value,y_val.lmpoly2))\n",
    "\n",
    "lm_poly3 = LinearRegression(normalize=True)\n",
    "lm_poly3.fit(X_train_degree3,y_train.value)\n",
    "y_train['lmpoly3'] = lm_poly3.predict(X_train_degree3)\n",
    "rmse['lmpoly3'] = sqrt(mean_squared_error(y_train.value,y_train.lmpoly3))\n",
    "\n",
    "y_val['lmpoly3'] = lm_poly3.predict(X_val_degree3)\n",
    "rmse_val['lmpoly3'] = sqrt(mean_squared_error(y_val.value,y_val.lmpoly3))\n",
    "\n"
   ]
  },
  {
   "cell_type": "code",
   "execution_count": 15,
   "id": "817fc964",
   "metadata": {},
   "outputs": [
    {
     "data": {
      "text/plain": [
       "93070.720569808"
      ]
     },
     "execution_count": 15,
     "metadata": {},
     "output_type": "execute_result"
    }
   ],
   "source": [
    "# Apply poly 3 to Test set, RMSE of $93,070\n",
    "lm_poly3.predict(X_test_degree3)\n",
    "sqrt(mean_squared_error(y_test,lm_poly3.predict(X_test_degree3)))"
   ]
  },
  {
   "cell_type": "code",
   "execution_count": 13,
   "id": "20ee8374",
   "metadata": {},
   "outputs": [
    {
     "data": {
      "text/plain": [
       "{'baseline': 465755.3753754042,\n",
       " 'lm': 113880.82936547349,\n",
       " 'lasso': 113880.86787754115,\n",
       " 'tweedy0': 463635.4309044032,\n",
       " 'tweedy1': 697190.8871938162,\n",
       " 'lmpoly1': 113880.82926910011,\n",
       " 'lmpoly2': 86838.36858790288,\n",
       " 'lmpoly3': 64139.40683789053}"
      ]
     },
     "execution_count": 13,
     "metadata": {},
     "output_type": "execute_result"
    }
   ],
   "source": [
    "rmse"
   ]
  },
  {
   "cell_type": "code",
   "execution_count": 14,
   "id": "4b36152c",
   "metadata": {},
   "outputs": [
    {
     "data": {
      "text/plain": [
       "{'lmpoly1': 65633.88749626571,\n",
       " 'lmpoly2': 70887.8244599154,\n",
       " 'lmpoly3': 66043.62389005676}"
      ]
     },
     "execution_count": 14,
     "metadata": {},
     "output_type": "execute_result"
    }
   ],
   "source": [
    "rmse_val"
   ]
  },
  {
   "cell_type": "code",
   "execution_count": null,
   "id": "bdc68079",
   "metadata": {},
   "outputs": [],
   "source": []
  }
 ],
 "metadata": {
  "kernelspec": {
   "display_name": "Python 3 (ipykernel)",
   "language": "python",
   "name": "python3"
  },
  "language_info": {
   "codemirror_mode": {
    "name": "ipython",
    "version": 3
   },
   "file_extension": ".py",
   "mimetype": "text/x-python",
   "name": "python",
   "nbconvert_exporter": "python",
   "pygments_lexer": "ipython3",
   "version": "3.9.7"
  }
 },
 "nbformat": 4,
 "nbformat_minor": 5
}
